{
 "cells": [
  {
   "cell_type": "code",
   "execution_count": 0,
   "metadata": {
    "application/vnd.databricks.v1+cell": {
     "cellMetadata": {
      "byteLimit": 2048000,
      "rowLimit": 10000
     },
     "inputWidgets": {},
     "nuid": "237ce586-6c3e-4784-b319-9cab75d9d8f6",
     "showTitle": false,
     "title": ""
    }
   },
   "outputs": [],
   "source": [
    "#%pip install torch==2.1.0"
   ]
  },
  {
   "cell_type": "code",
   "execution_count": 0,
   "metadata": {
    "application/vnd.databricks.v1+cell": {
     "cellMetadata": {
      "byteLimit": 2048000,
      "rowLimit": 10000
     },
     "inputWidgets": {},
     "nuid": "c92f0314-8f2e-4d91-b132-db3084329454",
     "showTitle": false,
     "title": ""
    }
   },
   "outputs": [
    {
     "output_type": "display_data",
     "data": {
      "application/vnd.databricks.v1+bamboolib_hint": "{\"pd.DataFrames\": [], \"version\": \"0.0.1\"}",
      "text/plain": []
     },
     "metadata": {},
     "output_type": "display_data"
    }
   ],
   "source": [
    "import pandas as pd\n",
    "import pandas as pd\n",
    "import seaborn as sns\n",
    "import matplotlib as mpl\n",
    "import sklearn\n",
    "import numpy as np\n",
    "import boto3\n",
    "from pyspark.sql import SparkSession\n",
    "from pyspark.sql.functions import col, count, when, col, isnan\n",
    "from pyspark.sql.types import StructType, StructField, StringType, IntegerType, DateType"
   ]
  },
  {
   "cell_type": "code",
   "execution_count": 0,
   "metadata": {
    "application/vnd.databricks.v1+cell": {
     "cellMetadata": {
      "byteLimit": 2048000,
      "rowLimit": 10000
     },
     "inputWidgets": {},
     "nuid": "684f1ffe-635e-44c6-ad6c-b374e2ec15e2",
     "showTitle": false,
     "title": ""
    }
   },
   "outputs": [],
   "source": [
    "import os\n",
    "# To work with Amazon S3 storage, set the following variables using your AWS Access Key and Secret Key\n",
    "# Set the Region to where your files are stored in S3.\n",
    "access_key = 'My Access Key'\n",
    "secret_key = 'My Secret Key'\n",
    "# Set the environment variables so boto3 can pick them up later\n",
    "os.environ['AWS_ACCESS_KEY_ID'] = access_key\n",
    "os.environ['AWS_SECRET_ACCESS_KEY'] = secret_key\n",
    "encoded_secret_key = secret_key.replace(\"/\", \"%2F\")\n",
    "aws_region = \"us-east-2\""
   ]
  },
  {
   "cell_type": "code",
   "execution_count": 0,
   "metadata": {
    "application/vnd.databricks.v1+cell": {
     "cellMetadata": {
      "byteLimit": 2048000,
      "rowLimit": 10000
     },
     "inputWidgets": {},
     "nuid": "ac8e1a55-9f9c-419d-afc9-09dedbc785e2",
     "showTitle": false,
     "title": ""
    }
   },
   "outputs": [],
   "source": [
    "sc._jsc.hadoopConfiguration().set(\"fs.s3a.access.key\", access_key)\n",
    "sc._jsc.hadoopConfiguration().set(\"fs.s3a.secret.key\", secret_key)\n",
    "sc._jsc.hadoopConfiguration().set(\"fs.s3a.endpoint\", \"s3.\" + aws_region +\n",
    "\".amazonaws.com\")"
   ]
  },
  {
   "cell_type": "code",
   "execution_count": 0,
   "metadata": {
    "application/vnd.databricks.v1+cell": {
     "cellMetadata": {
      "byteLimit": 2048000,
      "rowLimit": 10000
     },
     "inputWidgets": {},
     "nuid": "8b8b0a30-7e87-466b-ae80-2ca5a612e1d9",
     "showTitle": false,
     "title": ""
    }
   },
   "outputs": [],
   "source": [
    "file_path = 's3://amazon-reviews-ma/landing/amazon_reviews_multilingual_US_v1_00.tsv'\n",
    "sdf = spark.read.csv(file_path, sep='\\t', header=True, inferSchema=True)\n"
   ]
  },
  {
   "cell_type": "code",
   "execution_count": 0,
   "metadata": {
    "application/vnd.databricks.v1+cell": {
     "cellMetadata": {
      "byteLimit": 2048000,
      "rowLimit": 10000
     },
     "inputWidgets": {},
     "nuid": "63018562-43c5-43f7-bdb6-d75a257d05a5",
     "showTitle": false,
     "title": ""
    }
   },
   "outputs": [],
   "source": [
    "# Creating a spark session\n",
    "spark = SparkSession.builder \\\n",
    "    .appName(\"AmazonReviewsAnalysis\") \\\n",
    "    .getOrCreate()"
   ]
  },
  {
   "cell_type": "code",
   "execution_count": 0,
   "metadata": {
    "application/vnd.databricks.v1+cell": {
     "cellMetadata": {
      "byteLimit": 2048000,
      "rowLimit": 10000
     },
     "inputWidgets": {},
     "nuid": "e3ee53c1-0f1d-4a3c-907e-a6697c794fee",
     "showTitle": false,
     "title": ""
    }
   },
   "outputs": [
    {
     "output_type": "stream",
     "name": "stdout",
     "output_type": "stream",
     "text": [
      "+-----------+-----------+--------------+----------+--------------+--------------------+----------------+-----------+-------------+-----------+----+-----------------+--------------------+--------------------+-----------+\n|marketplace|customer_id|     review_id|product_id|product_parent|       product_title|product_category|star_rating|helpful_votes|total_votes|vine|verified_purchase|     review_headline|         review_body|review_date|\n+-----------+-----------+--------------+----------+--------------+--------------------+----------------+-----------+-------------+-----------+----+-----------------+--------------------+--------------------+-----------+\n|         US|   53096384| R63J84G1LOX6R|1563890119|     763187671|The Sandman Vol. ...|           Books|          4|            0|          1|   N|                N|ignore the review...|this is the first...| 1995-08-13|\n|         US|   53096399|R1BALOA11Z06MT|1559947608|     381720534|The 22 Immutable ...|           Books|          4|            0|          0|   N|                N|             awesome|I've always been ...| 1995-08-17|\n|         US|   53096332|R1LLAY5W5PZUS4|0671701800|     860650224|             Contact|           Books|          5|            1|          2|   N|                N|Read the book. It...|This is a book ab...| 1995-08-30|\n|         US|   53096335|R3R9VTJ82FXECQ|0425132153|     624269601|          Good Omens|           Books|          5|            0|          0|   N|                N|Funniest book eve...|This is quite pos...| 1995-09-11|\n|         US|   51747709|R1P5J3FNBWTFXY|0517122707|     161411385|A Confederacy of ...|           Books|          5|            0|          0|   N|                N|A winner that did...|The story behind ...| 1995-10-17|\n|         US|   53095881|R2XQTCOBWNCEAC|0345350499|     627223385| The Mists of Avalon|           Books|          5|            0|          0|   N|                N|One of the best b...|Marion Zimmer Bra...| 1995-11-02|\n|         US|   53096485|  R87VUTMFOE6N|B000002OTL|     877615083|Pulp Fiction: Mus...|           Music|          5|            0|          1|   N|                N|Pulp Fiction Soun...|Pulp Fiction the ...| 1995-11-11|\n|         US|   53096485| RVS529AN21RR3|6302136105|     701401373|     The Doors [VHS]|           Video|          5|            1|          2|   N|                N|The Doors: The be...|The Doors is one ...| 1995-11-11|\n|         US|   53095748| RG6LPC4W8LN29|0399134204|      31287929|   The Joy Luck Club|           Books|          5|            0|          1|   N|                N|Gives a deeper un...|The book in some ...| 1995-11-15|\n|         US|   53071277| RDFIE1IF0IYFH|0887306667|     381720534|The 22 Immutable ...|           Books|          5|            0|          0|   N|                N|One of the best m...|This book is a fa...| 1996-05-12|\n|         US|   53092169|R118UFZDTS9K8P|044022165X|     511419057|       The Rainmaker|           Books|          5|            2|          2|   N|                N|A definite page t...|John Grisham's Th...| 1996-05-15|\n|         US|   53091057|R3M7XTU4Y95NV6|0425107469|      50861192|            Watchers|           Books|          5|            1|          2|   N|                N|The best book tha...|This was my first...| 1996-05-17|\n|         US|   53092180|R1KLWU5B78FKDR|0880389052|     243097701|Homeland (Forgott...|           Books|          5|            1|          1|   N|                N|Homeland is the b...|I usually don't l...| 1996-05-17|\n|         US|   53068480|R1BGW1GTUGJZXJ|0446310786|     994527755|To Kill a Mocking...|           Books|          5|            0|          1|   N|                N|Extraordinary sto...|On the surface, f...| 1996-05-18|\n|         US|   53092058| R5UI1Q87QAZKH|0385040199|     636860937|Anne Frank: Diary...|           Books|          5|            1|          1|   N|                N|How do you review...|How do you review...| 1996-05-19|\n|         US|   52152881| R4X9DR0KSYFXD|B000001FBU|     880908728|Creatures of the ...|           Music|          4|            1|          1|   N|                N|Kiss' return to h...|After briefly vis...| 1996-05-20|\n|         US|   53091884|R1TOE3LHCXE3DO|0679731377|      62087535|A History of the ...|           Books|          5|            0|          0|   N|                N|The best book I'v...|Barnes is a true ...| 1996-05-21|\n|         US|   53093609|R3IME3JO53P3EM|0451169514|     380266608|                  It|           Books|          5|            1|          1|   N|                N|One of Stephen Ki...|I have to say, th...| 1996-05-22|\n|         US|   53081592| R63DTB2NEMWYE|0316920045|     669738240|Infinite Jest: A ...|           Books|          5|            0|          1|   N|                N|Infinite Jest: I'...|I've been waiting...| 1996-05-23|\n|         US|   52510867|R1PY156QM1IKZN|0451175123|     594264062|The Fountainhead:...|           Books|          5|            0|          0|   N|                N|Powerful work of ...|Ayn Rand was the ...| 1996-05-23|\n+-----------+-----------+--------------+----------+--------------+--------------------+----------------+-----------+-------------+-----------+----+-----------------+--------------------+--------------------+-----------+\nonly showing top 20 rows\n\n"
     ]
    }
   ],
   "source": [
    "sdf.show()"
   ]
  },
  {
   "cell_type": "code",
   "execution_count": 0,
   "metadata": {
    "application/vnd.databricks.v1+cell": {
     "cellMetadata": {
      "byteLimit": 2048000,
      "rowLimit": 10000
     },
     "inputWidgets": {},
     "nuid": "d0e983cb-d34c-4516-b6eb-a685762f55b7",
     "showTitle": false,
     "title": ""
    }
   },
   "outputs": [
    {
     "output_type": "stream",
     "name": "stdout",
     "output_type": "stream",
     "text": [
      "Out[9]: 6931166"
     ]
    }
   ],
   "source": [
    "# count of rows \n",
    "sdf.count()"
   ]
  },
  {
   "cell_type": "code",
   "execution_count": 0,
   "metadata": {
    "application/vnd.databricks.v1+cell": {
     "cellMetadata": {
      "byteLimit": 2048000,
      "rowLimit": 10000
     },
     "inputWidgets": {},
     "nuid": "8d303a82-7e8e-4d52-b041-5eb97071218c",
     "showTitle": false,
     "title": ""
    }
   },
   "outputs": [
    {
     "output_type": "stream",
     "name": "stdout",
     "output_type": "stream",
     "text": [
      "+-------+-----------------+------------------+-----------------+\n|summary|      star_rating|     helpful_votes|      total_votes|\n+-------+-----------------+------------------+-----------------+\n|  count|          6931165|           6931165|          6931165|\n|    min|                1|                 0|                0|\n|    max|                5|             27550|            28727|\n|   mean|4.306755934969085|2.0380304032583267|3.241855878485074|\n+-------+-----------------+------------------+-----------------+\n\n+-------+--------------------+--------------------+\n|summary|     review_headline|         review_body|\n+-------+--------------------+--------------------+\n|  count|             6931154|             6930594|\n|    min|\\tBeautiful!\\t201...|\\bPlease make oth...|\n|    max|🙌🙌🙌🙌🙌🙌🙌🙌?...|🚾🛁🗽🏡🗿🏧🏬🏈?...|\n+-------+--------------------+--------------------+\n\n"
     ]
    }
   ],
   "source": [
    "# Look at some of the statistics for some specific columns\n",
    "sdf.select(\"star_rating\", \"helpful_votes\", \"total_votes\").summary(\"count\", \"min\",\n",
    "\"max\", \"mean\").show()\n",
    "# Look at the Review headline and Review Body that we planning to use for our model\n",
    "sdf.select(\"review_headline\", \"review_body\").summary(\"count\", \"min\", \"max\").show()"
   ]
  },
  {
   "cell_type": "code",
   "execution_count": 0,
   "metadata": {
    "application/vnd.databricks.v1+cell": {
     "cellMetadata": {
      "byteLimit": 2048000,
      "rowLimit": 10000
     },
     "inputWidgets": {},
     "nuid": "efcf8a49-4720-4782-af0f-f624ff7075ee",
     "showTitle": false,
     "title": ""
    }
   },
   "outputs": [
    {
     "output_type": "stream",
     "name": "stdout",
     "output_type": "stream",
     "text": [
      "+-----------+-----------+---------------+---------+-------------+-----------+\n|star_rating|review_body|review_headline|review_id|helpful_votes|total_votes|\n+-----------+-----------+---------------+---------+-------------+-----------+\n|          1|        572|             19|        0|            1|          1|\n+-----------+-----------+---------------+---------+-------------+-----------+\n\n"
     ]
    }
   ],
   "source": [
    "# Checking to see if some of the columns have NULL values for the columns we might use\n",
    "sdf.select([count(when(isnan(c) | col(c).isNull(), c)).alias(c) for c in\n",
    "[\"star_rating\", \"review_body\",\"review_headline\", \"review_id\", \"helpful_votes\", \"total_votes\"]] ).show()"
   ]
  },
  {
   "cell_type": "code",
   "execution_count": 0,
   "metadata": {
    "application/vnd.databricks.v1+cell": {
     "cellMetadata": {
      "byteLimit": 2048000,
      "rowLimit": 10000
     },
     "inputWidgets": {},
     "nuid": "b675e5bb-3154-4c8c-b487-b7c6a0b81d8a",
     "showTitle": false,
     "title": ""
    }
   },
   "outputs": [
    {
     "output_type": "stream",
     "name": "stdout",
     "output_type": "stream",
     "text": [
      "0\n"
     ]
    }
   ],
   "source": [
    "#Checking and Dropping any duplicates for the same review_id\n",
    "# Check for duplicates (this is just to report the number of duplicates)\n",
    "duplicate_count = sdf.groupBy('review_id').count().filter(\"count > 1\").count()\n",
    "print(duplicate_count)\n",
    "# Drop duplicates based on the 'review_id' column\n",
    "#sdf = sdf.dropDuplicates(['review_id'])"
   ]
  },
  {
   "cell_type": "code",
   "execution_count": 0,
   "metadata": {
    "application/vnd.databricks.v1+cell": {
     "cellMetadata": {
      "byteLimit": 2048000,
      "rowLimit": 10000
     },
     "inputWidgets": {},
     "nuid": "cbb502dc-1201-4d29-b4bc-0f00ee13e8b6",
     "showTitle": false,
     "title": ""
    }
   },
   "outputs": [],
   "source": [
    "# Drop some of the records where the certain columns are empty (null or nan)for those columns\n",
    "sdf = sdf.na.drop(subset=[\"star_rating\", \"review_body\", \"review_headline\"])"
   ]
  },
  {
   "cell_type": "code",
   "execution_count": 0,
   "metadata": {
    "application/vnd.databricks.v1+cell": {
     "cellMetadata": {
      "byteLimit": 2048000,
      "rowLimit": 10000
     },
     "inputWidgets": {},
     "nuid": "28aed876-832d-443e-abc4-2babcddcb35b",
     "showTitle": false,
     "title": ""
    }
   },
   "outputs": [],
   "source": [
    "# Potential list of columns that we dont need\n",
    "columns_to_drop = [\"marketplace\", \"product_parent\", \"vine\"]\n",
    "\n",
    "# Droping those columns\n",
    "sdf = sdf.drop(*columns_to_drop)"
   ]
  },
  {
   "cell_type": "code",
   "execution_count": 0,
   "metadata": {
    "application/vnd.databricks.v1+cell": {
     "cellMetadata": {
      "byteLimit": 2048000,
      "rowLimit": 10000
     },
     "inputWidgets": {},
     "nuid": "7162671c-7429-4308-93bb-08f85df77b98",
     "showTitle": false,
     "title": ""
    }
   },
   "outputs": [
    {
     "output_type": "stream",
     "name": "stdout",
     "output_type": "stream",
     "text": [
      "+-------+---------------------+--------------------+\n|summary|clean_review_headline|   clean_review_body|\n+-------+---------------------+--------------------+\n|  count|              6930583|             6930583|\n|    min|                     |                    |\n|    max| ~~~~~~~ A MOVIE F...|~~~~~~~~~~~~~~~~~...|\n+-------+---------------------+--------------------+\n\n"
     ]
    }
   ],
   "source": [
    "# Define a function to strip out any non-ascii characters from review_headlines and review_body\n",
    "def ascii_only(mystring):\n",
    "    if mystring:\n",
    "        return mystring.encode('ascii', 'ignore').decode('ascii')\n",
    "    else:\n",
    "        return None\n",
    "# Turn this function into a User-Defined Function (UDF)\n",
    "ascii_udf = udf(ascii_only)\n",
    "# Clean up the review_headline and review_body\n",
    "sdf = sdf.withColumn(\"clean_review_headline\", ascii_udf('review_headline'))\n",
    "sdf = sdf.withColumn(\"clean_review_body\", ascii_udf('review_body'))\n",
    "# Re-check the cleaned headline and body\n",
    "sdf.select(\"clean_review_headline\", \"clean_review_body\").summary(\"count\", \"min\",\n",
    "\"max\").show()"
   ]
  },
  {
   "cell_type": "code",
   "execution_count": 0,
   "metadata": {
    "application/vnd.databricks.v1+cell": {
     "cellMetadata": {
      "byteLimit": 2048000,
      "rowLimit": 10000
     },
     "inputWidgets": {},
     "nuid": "7118cdc4-7fa5-469a-9ea0-f2cbac745389",
     "showTitle": false,
     "title": ""
    }
   },
   "outputs": [
    {
     "output_type": "stream",
     "name": "stdout",
     "output_type": "stream",
     "text": [
      "+--------------------------------------------------------+-----------------------------------------------------------------------------------------------------------------------------------------------------------------------------------------------------------------------------------------------------------------------------------------------------------------------------------------------------------------------------------------------------------------------------------------------------------------------------------------------------------------------------------------------------------------------------------------------------------------------------------------------------------------------------------------------+\n|clean_review_headline                                   |clean_review_body                                                                                                                                                                                                                                                                                                                                                                                                                                                                                                                                                                                                                                                                              |\n+--------------------------------------------------------+-----------------------------------------------------------------------------------------------------------------------------------------------------------------------------------------------------------------------------------------------------------------------------------------------------------------------------------------------------------------------------------------------------------------------------------------------------------------------------------------------------------------------------------------------------------------------------------------------------------------------------------------------------------------------------------------------+\n|ignore the review below                                 |this is the first 8 issues of the series. it is the starting point of all this... it also contains the sound of her wings. issue #8. which is the first appearance of death. and many peoples favorite issue. its not the best of the collected works. but its the start of them.                                                                                                                                                                                                                                                                                                                                                                                                              |\n|awesome                                                 |I've always been partial to immutable laws. The tape is entertaining, good car listening. The laws are clearly self evident once you've  heard them and you wonder why you didn't know  all that already and were about to go off and  do something stupid.  It's cheap, get it.                                                                                                                                                                                                                                                                                                                                                                                                               |\n|Read the book. It's good.                               |This is a book about first contact with aliens, written by a prominent member of SETI, the Search for ExtraTerrestrial Intelligence. Sagan makes excellent use of  SETI's current search methods as well as his own  knowledge of astronomy and physics to bring a sense of  reality to the book. But above its literacy, philosophy,  and speculation, it is an entertaining story that is not  overshadowed by gadgetry.                                                                                                                                                                                                                                                                     |\n|Funniest book ever written about the Anti-Christ        |This is quite possibly *the* funniest book I have ever read.  Terry Pratchett is an absolute genius (read the Discworld books--NOW!),  and Gaiman manages to give the book the appropriate dark touches.  Brilliant                                                                                                                                                                                                                                                                                                                                                                                                                                                                            |\n|A winner that didn't last. Only a mothers love remained |The story behind the book is almost better than the work. But make no mistake, the work will endure.                                                                                                                                                                                                                                                                                                                                                                                                                                                                                                                                                                                           |\n|One of the best books I've ever read!                   |Marion Zimmer Bradley brings King Arthur's court to life through the eyes of a woman in The Mists of Avalon.  It is by far one of the best novels I've ever read, and I recommend it to anyone who is interested in seeing a legend from a different point of view                                                                                                                                                                                                                                                                                                                                                                                                                             |\n|Pulp Fiction Soundtrack: EXCELLENT!!!!                  |Pulp Fiction the movie is one of my favorite movies. The   soundtrack is excellent. I reccommend it. E-Mail me and tell   me your thoughts on the movie &amp; the soundtrack of   PULP FICTION.  END                                                                                                                                                                                                                                                                                                                                                                                                                                                                                           |\n|The Doors: The best movie ever                          |The Doors is one of my favorite movies. Val Kilmer is a   great actor. E-Mail me and tell me your thoughts on this  movie  END                                                                                                                                                                                                                                                                                                                                                                                                                                                                                                                                                                 |\n|Gives a deeper understanding of chinese culture.        |The book in some way or another gives a deeper view into the chinese own set of behaviour. Touching at times.                                                                                                                                                                                                                                                                                                                                                                                                                                                                                                                                                                                  |\n|One of the best marketing books ever written.  Timeless.|This book is a fast read.   It covers strategic, high-level  marketing like no other marketing book,   and I'm a Marketing MBA who has read 400+ marketing books.    The book shows how &quot;positioning&quot; is critical for any business.    And the 22 laws can be reduced   to a list that fits on one page.    Absolutely Excellent.                                                                                                                                                                                                                                                                                                                                                    |\n|A definite page turner                                  |John Grisham's The Rainmaker keeps you guessing &amp; keeps  the pages turning as you route for the underdog &amp; recent law school graduate, Rudy Baylor, as he takes on the one of   the most revered law firms in Memphis.  I didn't expect much - but I think this is John Grisham's finest!  I highly recommend it!                                                                                                                                                                                                                                                                                                                                                                      |\n|The best book that was ever written by Dean R. Koontz!  |This was my first (I've read all his books!) and favorite book.  The story is not only compelling but heartwarming as well.  It mixes horror and science fiction (fact?) with people who are very real with   believable problems and takes you on an amazing adventure.  If you were  interested in Dean Koontz and want to try one of his books, this is the  one!                                                                                                                                                                                                                                                                                                                           |\n|Homeland is the best book ever!!!!                      |I usually don't like TSR books, but Homeland just blew me  away. A society of *EVIL* 'Drow' elves live underground. One elf breaks the mold and fights for what he feels is  right. Beautifully written with increadible fighting scenes.  Intricate plot and so many twists and turns your head'll  spin.        Book #1 in a 9 book series, it actually was the fourth  book written (Crystal Shard was first, from the Icewind   Trilogy) but it is MUCH better if you read the Dark Elf   Trilogy then Icewind Trilogy and then the following 3 books.  #9th book leaves so much unanswered and I don't know if he's  going to continue. Does anyone know?                                 |\n|Extraordinary story of courage through a child's eyes.  |On the surface, first-person story of a young girl's adventures in a small southern town during the depression. Story addresses impact of economic hardship and extreme  racial injustice through the eyes of the heroine without  patronizing her.    I believe the character of &quot;Dill&quot; was based on Truman  Capote, a childhood friend of Harper Lee.    One of the finest books I have ever read; I generally  reread it every year or two.                                                                                                                                                                                                                                       |\n|How do you review a life?                               |How do you review a life? Anne Frank was a child becoming an<br />adult at the onset of the Second World War, and the diary of<br />her life is the diary of any bright, perceptive young girl<br /> becoming a woman, and the diary of a Jew who died in the Nazi<br /> death camps.                                                                                                                                                                                                                                                                                                                                                                                                          |\n|Kiss' return to hard rock from Disco. One of their best.|After briefly visiting the world of Disco and commercialism,  Kiss is back with a hard and heavy return to their roots.  Includes the classics: &quot;I Love It Loud&quot;, &quot;I Still Love You&quot;   and the title track.  END                                                                                                                                                                                                                                                                                                                                                                                                                                                           |\n|The best book I've ever read.                           |Barnes is a true master of the English language. This book<br />is an absolute treat to read.  Barnes ability to weive seemingly<br />unrelated subjects such as woodworms, Noah's Ark and golf into<br /> a master's thesis on human life seperates him from<br /> any author I've ever read.  Truly a &quot;History of (Humans in) the World.&quot;                                                                                                                                                                                                                                                                                                                                          |\n|One of Stephen King's best books                        |I have to say, that when Stephen King wrote this book he truly outdid himself.  Stephen King enters you into the world of  seven children that are bonded by destiny to fight evil itself  in the form of a clown that haunts them and kills other children.    After they thought they had killed IT, 20 something years later, IT  comes back and they are drawn back to their hometown to face  the same evil they faced as children but now they are adults  and actually don't have their innocence and imagination, which  were their advantages over IT.  You'll be hooked until the end  until one of the forces wins, IT or the force that draws the children  (now adults) toghether.|\n|Infinite Jest: I've been waiting so long...             |I've been waiting for a book to take me by the hair and drag me, like Gaddis but enthralling, like Pynchon but still unread.  Wallace delivers genuis of our times (and times surely to come.)  Every character, every scene (seemingly every thought that's gone through this guy's head for the last few years...) is here.  Couldn't push it on enough of my friends -- I don't know what the naysayers could be talking about                                                                                                                                                                                                                                                              |\n|Powerful work of Modern Philosophy; Compelling Story    |Ayn Rand was the foremost advocate, and indeed the creator of objectivist philosophy.  Howark Roark is the champion of  every man or woman who has ever felt beaten down by a system  created by and for self-serving incompetents.  His unwavering  devotion to himself and his ideals is an impressive testament   to Rand's philosophy.                                                                                                                                                                                                                                                                                                                                                     |\n+--------------------------------------------------------+-----------------------------------------------------------------------------------------------------------------------------------------------------------------------------------------------------------------------------------------------------------------------------------------------------------------------------------------------------------------------------------------------------------------------------------------------------------------------------------------------------------------------------------------------------------------------------------------------------------------------------------------------------------------------------------------------+\nonly showing top 20 rows\n\n"
     ]
    }
   ],
   "source": [
    "# Display the new clean_review_headline and clean_review_body columns\n",
    "sdf.select(\"clean_review_headline\", \"clean_review_body\").show(truncate=False)"
   ]
  },
  {
   "cell_type": "code",
   "execution_count": 0,
   "metadata": {
    "application/vnd.databricks.v1+cell": {
     "cellMetadata": {
      "byteLimit": 2048000,
      "rowLimit": 10000
     },
     "inputWidgets": {},
     "nuid": "b929b599-8a51-4c07-be84-8690c0d1e3c5",
     "showTitle": false,
     "title": ""
    }
   },
   "outputs": [
    {
     "output_type": "stream",
     "name": "stdout",
     "output_type": "stream",
     "text": [
      "+-------------------------------------------------------+--------------------------------------------------------------------------------------------------------------------------------------------------------------------------------------------------------------------------------------------------------------------------------------------------------------------------------------------------------------------------------------------------------------------------+\n|clean_review_headline                                  |clean_review_body                                                                                                                                                                                                                                                                                                                                                                                                         |\n+-------------------------------------------------------+--------------------------------------------------------------------------------------------------------------------------------------------------------------------------------------------------------------------------------------------------------------------------------------------------------------------------------------------------------------------------------------------------------------------------+\n|ignore the review below                                |this is the first 8 issues of the series. it is the starting point of all this... it also contains the sound of her wings. issue #8. which is the first appearance of death. and many peoples favorite issue. its not the best of the collected works. but its the start of them.                                                                                                                                         |\n|awesome                                                |I've always been partial to immutable laws. The tape is entertaining, good car listening. The laws are clearly self evident once you've  heard them and you wonder why you didn't know  all that already and were about to go off and  do something stupid.  It's cheap, get it.                                                                                                                                          |\n|Read the book. It's good.                              |This is a book about first contact with aliens, written by a prominent member of SETI, the Search for ExtraTerrestrial Intelligence. Sagan makes excellent use of  SETI's current search methods as well as his own  knowledge of astronomy and physics to bring a sense of  reality to the book. But above its literacy, philosophy,  and speculation, it is an entertaining story that is not  overshadowed by gadgetry.|\n|Funniest book ever written about the Anti-Christ       |This is quite possibly *the* funniest book I have ever read.  Terry Pratchett is an absolute genius (read the Discworld books--NOW!),  and Gaiman manages to give the book the appropriate dark touches.  Brilliant                                                                                                                                                                                                       |\n|A winner that didn't last. Only a mothers love remained|The story behind the book is almost better than the work. But make no mistake, the work will endure.                                                                                                                                                                                                                                                                                                                      |\n+-------------------------------------------------------+--------------------------------------------------------------------------------------------------------------------------------------------------------------------------------------------------------------------------------------------------------------------------------------------------------------------------------------------------------------------------------------------------------------------------+\n\n"
     ]
    }
   ],
   "source": [
    "# Display only a few rows to check the cleaned columns\n",
    "sdf.select(\"clean_review_headline\", \"clean_review_body\").limit(5).show(truncate=False)"
   ]
  },
  {
   "cell_type": "code",
   "execution_count": 0,
   "metadata": {
    "application/vnd.databricks.v1+cell": {
     "cellMetadata": {
      "byteLimit": 2048000,
      "rowLimit": 10000
     },
     "inputWidgets": {},
     "nuid": "2ff32e35-9392-4b9b-af9d-295924673eb9",
     "showTitle": false,
     "title": ""
    }
   },
   "outputs": [
    {
     "output_type": "stream",
     "name": "stdout",
     "output_type": "stream",
     "text": [
      "+---------------------+-----------------+\n|clean_review_headline|clean_review_body|\n+---------------------+-----------------+\n|                    0|                0|\n+---------------------+-----------------+\n\n"
     ]
    }
   ],
   "source": [
    "#sanity check for null values in newly created columns\n",
    "null_values = sdf.select([\n",
    "    count(when(col(c).isNull(), c)).alias(c) for c in ['clean_review_headline', 'clean_review_body']\n",
    "])\n",
    "\n",
    "null_values.show()"
   ]
  },
  {
   "cell_type": "code",
   "execution_count": 0,
   "metadata": {
    "application/vnd.databricks.v1+cell": {
     "cellMetadata": {
      "byteLimit": 2048000,
      "rowLimit": 10000
     },
     "inputWidgets": {},
     "nuid": "82139974-47c5-443b-9e1e-299699f672da",
     "showTitle": false,
     "title": ""
    }
   },
   "outputs": [
    {
     "output_type": "stream",
     "name": "stdout",
     "output_type": "stream",
     "text": [
      "+-----------+--------------+----------+--------------------+----------------+-----------+-------------+-----------+-----------------+--------------------+--------------------+-----------+---------------------+--------------------+\n|customer_id|     review_id|product_id|       product_title|product_category|star_rating|helpful_votes|total_votes|verified_purchase|     review_headline|         review_body|review_date|clean_review_headline|   clean_review_body|\n+-----------+--------------+----------+--------------------+----------------+-----------+-------------+-----------+-----------------+--------------------+--------------------+-----------+---------------------+--------------------+\n|   53096384| R63J84G1LOX6R|1563890119|The Sandman Vol. ...|           Books|          4|            0|          1|                N|ignore the review...|this is the first...| 1995-08-13| ignore the review...|this is the first...|\n|   53096399|R1BALOA11Z06MT|1559947608|The 22 Immutable ...|           Books|          4|            0|          0|                N|             awesome|I've always been ...| 1995-08-17|              awesome|I've always been ...|\n|   53096332|R1LLAY5W5PZUS4|0671701800|             Contact|           Books|          5|            1|          2|                N|Read the book. It...|This is a book ab...| 1995-08-30| Read the book. It...|This is a book ab...|\n|   53096335|R3R9VTJ82FXECQ|0425132153|          Good Omens|           Books|          5|            0|          0|                N|Funniest book eve...|This is quite pos...| 1995-09-11| Funniest book eve...|This is quite pos...|\n|   51747709|R1P5J3FNBWTFXY|0517122707|A Confederacy of ...|           Books|          5|            0|          0|                N|A winner that did...|The story behind ...| 1995-10-17| A winner that did...|The story behind ...|\n|   53095881|R2XQTCOBWNCEAC|0345350499| The Mists of Avalon|           Books|          5|            0|          0|                N|One of the best b...|Marion Zimmer Bra...| 1995-11-02| One of the best b...|Marion Zimmer Bra...|\n|   53096485|  R87VUTMFOE6N|B000002OTL|Pulp Fiction: Mus...|           Music|          5|            0|          1|                N|Pulp Fiction Soun...|Pulp Fiction the ...| 1995-11-11| Pulp Fiction Soun...|Pulp Fiction the ...|\n|   53096485| RVS529AN21RR3|6302136105|     The Doors [VHS]|           Video|          5|            1|          2|                N|The Doors: The be...|The Doors is one ...| 1995-11-11| The Doors: The be...|The Doors is one ...|\n|   53095748| RG6LPC4W8LN29|0399134204|   The Joy Luck Club|           Books|          5|            0|          1|                N|Gives a deeper un...|The book in some ...| 1995-11-15| Gives a deeper un...|The book in some ...|\n|   53071277| RDFIE1IF0IYFH|0887306667|The 22 Immutable ...|           Books|          5|            0|          0|                N|One of the best m...|This book is a fa...| 1996-05-12| One of the best m...|This book is a fa...|\n|   53092169|R118UFZDTS9K8P|044022165X|       The Rainmaker|           Books|          5|            2|          2|                N|A definite page t...|John Grisham's Th...| 1996-05-15| A definite page t...|John Grisham's Th...|\n|   53091057|R3M7XTU4Y95NV6|0425107469|            Watchers|           Books|          5|            1|          2|                N|The best book tha...|This was my first...| 1996-05-17| The best book tha...|This was my first...|\n|   53092180|R1KLWU5B78FKDR|0880389052|Homeland (Forgott...|           Books|          5|            1|          1|                N|Homeland is the b...|I usually don't l...| 1996-05-17| Homeland is the b...|I usually don't l...|\n|   53068480|R1BGW1GTUGJZXJ|0446310786|To Kill a Mocking...|           Books|          5|            0|          1|                N|Extraordinary sto...|On the surface, f...| 1996-05-18| Extraordinary sto...|On the surface, f...|\n|   53092058| R5UI1Q87QAZKH|0385040199|Anne Frank: Diary...|           Books|          5|            1|          1|                N|How do you review...|How do you review...| 1996-05-19| How do you review...|How do you review...|\n|   52152881| R4X9DR0KSYFXD|B000001FBU|Creatures of the ...|           Music|          4|            1|          1|                N|Kiss' return to h...|After briefly vis...| 1996-05-20| Kiss' return to h...|After briefly vis...|\n|   53091884|R1TOE3LHCXE3DO|0679731377|A History of the ...|           Books|          5|            0|          0|                N|The best book I'v...|Barnes is a true ...| 1996-05-21| The best book I'v...|Barnes is a true ...|\n|   53093609|R3IME3JO53P3EM|0451169514|                  It|           Books|          5|            1|          1|                N|One of Stephen Ki...|I have to say, th...| 1996-05-22| One of Stephen Ki...|I have to say, th...|\n|   53081592| R63DTB2NEMWYE|0316920045|Infinite Jest: A ...|           Books|          5|            0|          1|                N|Infinite Jest: I'...|I've been waiting...| 1996-05-23| Infinite Jest: I'...|I've been waiting...|\n|   52510867|R1PY156QM1IKZN|0451175123|The Fountainhead:...|           Books|          5|            0|          0|                N|Powerful work of ...|Ayn Rand was the ...| 1996-05-23| Powerful work of ...|Ayn Rand was the ...|\n+-----------+--------------+----------+--------------------+----------------+-----------+-------------+-----------+-----------------+--------------------+--------------------+-----------+---------------------+--------------------+\nonly showing top 20 rows\n\n"
     ]
    }
   ],
   "source": [
    "sdf.show()"
   ]
  },
  {
   "cell_type": "code",
   "execution_count": 0,
   "metadata": {
    "application/vnd.databricks.v1+cell": {
     "cellMetadata": {
      "byteLimit": 2048000,
      "rowLimit": 10000
     },
     "inputWidgets": {},
     "nuid": "dc46ba56-3009-48aa-824b-fa9e90c061bf",
     "showTitle": false,
     "title": ""
    }
   },
   "outputs": [],
   "source": [
    "# Look at the Review headline and Review Body\n",
    "sdf.select(\"review_headline\", \"review_body\").summary(\"count\", \"min\", \"max\").show()"
   ]
  },
  {
   "cell_type": "code",
   "execution_count": 0,
   "metadata": {
    "application/vnd.databricks.v1+cell": {
     "cellMetadata": {
      "byteLimit": 2048000,
      "rowLimit": 10000
     },
     "inputWidgets": {},
     "nuid": "18a65be3-9be4-4717-8cb7-564ffc7844d4",
     "showTitle": false,
     "title": ""
    }
   },
   "outputs": [],
   "source": [
    "# Look at the Cleaned Review headline and Review Body and compare it\n",
    "sdf.select(\"clean_review_headline\", \"clean_review_body\").summary(\"count\",\"min\",\"max\").show()"
   ]
  },
  {
   "cell_type": "code",
   "execution_count": 0,
   "metadata": {
    "application/vnd.databricks.v1+cell": {
     "cellMetadata": {},
     "inputWidgets": {},
     "nuid": "567877cd-fe03-4d1f-9d33-7a23f64ea230",
     "showTitle": false,
     "title": ""
    }
   },
   "outputs": [],
   "source": [
    "s3://amazon-reviews-ma/landing/amazon_reviews_multilingual_US_v1_00.tsv"
   ]
  },
  {
   "cell_type": "code",
   "execution_count": 0,
   "metadata": {
    "application/vnd.databricks.v1+cell": {
     "cellMetadata": {
      "byteLimit": 2048000,
      "rowLimit": 10000
     },
     "inputWidgets": {},
     "nuid": "fc0179d4-30a5-4225-a57d-7e647a4435df",
     "showTitle": false,
     "title": ""
    }
   },
   "outputs": [
    {
     "output_type": "stream",
     "name": "stdout",
     "output_type": "stream",
     "text": [
      "Cleaned file written to: s3://amazon-reviews-ma/raw/cleaned_amazon_reviews_multilingual_US_v1_00.parquet\n"
     ]
    }
   ],
   "source": [
    "# Define a function to clean the DataFrame\n",
    "def clean_amazon_reviews(file_path, output_file_path_s3):\n",
    "    # Reading the file from S3\n",
    "    sdf = spark.read.csv(file_path, sep='\\t', header=True, inferSchema=True)\n",
    "    \n",
    "    # Performing cleaning operations on the selected file from the dictionary\n",
    "    sdf = sdf.na.drop(subset=[\"star_rating\", \"review_body\", \"review_headline\"])\n",
    "    columns_to_drop = [\"marketplace\", \"product_parent\", \"vine\"]\n",
    "    sdf = sdf.drop(*columns_to_drop)\n",
    "    \n",
    "    # keeping only ascii charracters for the review_headline and review body and make a new column for clean_review_headline and clean_review_body\n",
    "    def ascii_only(mystring):\n",
    "        if mystring:\n",
    "            return mystring.encode('ascii', 'ignore').decode('ascii')\n",
    "        else:\n",
    "            return None\n",
    "\n",
    "    ascii_udf = udf(ascii_only, StringType())\n",
    "    sdf = sdf.withColumn(\"clean_review_headline\", ascii_udf('review_headline'))\n",
    "    sdf = sdf.withColumn(\"clean_review_body\", ascii_udf('review_body'))\n",
    "\n",
    "    # Write the cleaned DataFrame back to S3 as a Parquet file\n",
    "    sdf.write.mode('overwrite').parquet(output_file_path_s3)\n",
    "\n",
    "    # Return the path to the cleaned data\n",
    "    return output_file_path_s3\n",
    "\n",
    "# List of source files and their corresponding destination paths for cleaned data\n",
    "files_to_clean = [\n",
    "    {\n",
    "        'source': 's3://amazon-reviews-ma/landing/amazon_reviews_multilingual_US_v1_00.tsv',\n",
    "        'destination': 's3://amazon-reviews-ma/raw/cleaned_amazon_reviews_multilingual_US_v1_00.parquet'\n",
    "    },\n",
    "    # {\n",
    "    #     'source': 's3://amazon-reviews-ma/landing/amazon_reviews_us_Automotive_v1_00.tsv',\n",
    "    #     'destination': 's3://amazon-reviews-ma/raw/cleaned_amazon_reviews_us_Automotive_v1_00.parquet'\n",
    "    # },\n",
    "    # {\n",
    "    #     'source': 's3://amazon-reviews-ma/landing/amazon_reviews_us_Baby_v1_00.tsv',\n",
    "    #     'destination': 's3://amazon-reviews-ma/raw/cleaned_amazon_reviews_us_Baby_v1_00.parquet'\n",
    "    # },\n",
    "    # {\n",
    "    #     'source': 's3://amazon-reviews-ma/landing/amazon_reviews_us_Beauty_v1_00.tsv',\n",
    "    #     'destination':'s3://amazon-reviews-ma/raw/cleaned_amazon_reviews_us_Beauty_v1_00.parquet'\n",
    "    # },\n",
    "    # {\n",
    "    #     'source': 's3://amazon-reviews-ma/landing/amazon_reviews_us_Books_v1_02.tsv',\n",
    "    #     'destination': 's3://amazon-reviews-ma/raw/cleaned_amazon_reviews_us_Books_v1_02.parquet'\n",
    "    # },\n",
    "    # {\n",
    "    #     'source': 's3://amazon-reviews-ma/landing/amazon_reviews_us_Camera_v1_00.tsv',\n",
    "    #     'destination': 's3://amazon-reviews-ma/raw/cleaned_amazon_reviews_us_Camera_v1_00.parquet'\n",
    "    # },\n",
    "    # {\n",
    "    #     'source': 's3://amazon-reviews-ma/landing/amazon_reviews_us_Digital_Ebook_Purchase_v1_01.tsv',\n",
    "    #     'destination': 's3://amazon-reviews-ma/raw/cleaned_amazon_reviews_us_Digital_Ebook_Purchase_v1_01.parquet'\n",
    "    # },\n",
    "    # {\n",
    "    #     'source': 's3://amazon-reviews-ma/landing/amazon_reviews_us_Digital_Music_Purchase_v1_00.tsv',\n",
    "    #     'destination': 's3://amazon-reviews-ma/raw/cleaned_amazon_reviews_us_Digital_Music_Purchase_v1_00.parquet'\n",
    "    # },\n",
    "    # {\n",
    "    #     'source': 's3://amazon-reviews-ma/landing/amazon_reviews_us_Digital_Software_v1_00.tsv',\n",
    "    #     'destination': 's3://amazon-reviews-ma/raw/cleaned_amazon_reviews_us_Digital_Software_v1_00.parquet'\n",
    "    # },\n",
    "    # {\n",
    "    #     'source': 's3://amazon-reviews-ma/landing/amazon_reviews_us_Digital_Video_Download_v1_00.tsv',\n",
    "    #     'destination': 's3://amazon-reviews-ma/raw/cleaned_amazon_reviews_us_Digital_Video_Download_v1_00.parquet'\n",
    "    # },\n",
    "    # # For run time purposes looping through 10 files at a time\n",
    "    \n",
    "]\n",
    "\n",
    "# Loop through the list of files and clean each one\n",
    "for paths in files_to_clean:\n",
    "    cleaned_path = clean_amazon_reviews(paths['source'], paths['destination'])\n",
    "    print(f'Cleaned file written to: {cleaned_path}')"
   ]
  },
  {
   "cell_type": "code",
   "execution_count": 0,
   "metadata": {
    "application/vnd.databricks.v1+cell": {
     "cellMetadata": {
      "byteLimit": 2048000,
      "rowLimit": 10000
     },
     "inputWidgets": {},
     "nuid": "ee9589e0-c306-4808-ae2e-bd8b66e96f7a",
     "showTitle": false,
     "title": ""
    }
   },
   "outputs": [
    {
     "output_type": "stream",
     "name": "stdout",
     "output_type": "stream",
     "text": [
      "Cleaned file written to: s3://amazon-reviews-ma/raw/cleaned_amazon_reviews_us_Shoes_v1_00.parquet\nCleaned file written to: s3://amazon-reviews-ma/raw/cleaned_amazon_reviews_us_Software_v1_00.parquet\nCleaned file written to: s3://amazon-reviews-ma/raw/cleaned_amazon_reviews_us_Sports_v1_00.parquet\nCleaned file written to: s3://amazon-reviews-ma/raw/cleaned_amazon_reviews_us_Tools_v1_00.parquet\nCleaned file written to: s3://amazon-reviews-ma/raw/cleaned_amazon_reviews_us_Toys_v1_00.parquet\nCleaned file written to: s3://amazon-reviews-ma/raw/cleaned_amazon_reviews_us_Video_DVD_v1_00.parquet\nCleaned file written to: s3://amazon-reviews-ma/raw/cleaned_amazon_reviews_us_Video_Games_v1_00.parquet\nCleaned file written to: s3://amazon-reviews-ma/raw/cleaned_amazon_reviews_us_Video_v1_00.parquet\nCleaned file written to: s3://amazon-reviews-ma/raw/cleaned_amazon_reviews_us_Watches_v1_00.parquet\nCleaned file written to: s3://amazon-reviews-ma/raw/cleaned_amazon_reviews_us_Wireless_v1_00.parquet\n"
     ]
    }
   ],
   "source": [
    "# Define a function to clean the DataFrame\n",
    "def clean_amazon_reviews(file_path, output_file_path_s3):\n",
    "    # Reading the file from S3\n",
    "    sdf = spark.read.csv(file_path, sep='\\t', header=True, inferSchema=True)\n",
    "    \n",
    "    # Performing cleaning operations on the selected file from the dictionary\n",
    "    sdf = sdf.na.drop(subset=[\"star_rating\", \"review_body\", \"review_headline\"])\n",
    "    columns_to_drop = [\"marketplace\", \"product_parent\", \"vine\"]\n",
    "    sdf = sdf.drop(*columns_to_drop)\n",
    "    \n",
    "    # keeping only ascii charracters for the review_headline and review body and make a new column for clean_review_headline and clean_review_body\n",
    "    def ascii_only(mystring):\n",
    "        if mystring:\n",
    "            return mystring.encode('ascii', 'ignore').decode('ascii')\n",
    "        else:\n",
    "            return None\n",
    "\n",
    "    ascii_udf = udf(ascii_only, StringType())\n",
    "    sdf = sdf.withColumn(\"clean_review_headline\", ascii_udf('review_headline'))\n",
    "    sdf = sdf.withColumn(\"clean_review_body\", ascii_udf('review_body'))\n",
    "\n",
    "    # Write the cleaned DataFrame back to S3 as a Parquet file\n",
    "    sdf.write.mode('overwrite').parquet(output_file_path_s3)\n",
    "\n",
    "    # Return the path to the cleaned data\n",
    "    return output_file_path_s3\n",
    "\n",
    "# List of source files and their corresponding destination paths for cleaned data\n",
    "files_to_clean = [\n",
    "    # {\n",
    "    #     'source': 's3://amazon-reviews-ma/landing/amazon_reviews_us_Apparel_v1_00.tsv',\n",
    "    #     'destination': 's3://amazon-reviews-ma/raw/cleaned_amazon_reviews_us_Apparel_v1_00.parquet'\n",
    "    # },\n",
    "    # {\n",
    "    #     'source': 's3://amazon-reviews-ma/landing/amazon_reviews_us_Automotive_v1_00.tsv',\n",
    "    #     'destination': 's3://amazon-reviews-ma/raw/cleaned_amazon_reviews_us_Automotive_v1_00.parquet'\n",
    "    # },\n",
    "    # {\n",
    "    #     'source': 's3://amazon-reviews-ma/landing/amazon_reviews_us_Baby_v1_00.tsv',\n",
    "    #     'destination': 's3://amazon-reviews-ma/raw/cleaned_amazon_reviews_us_Baby_v1_00.parquet'\n",
    "    # },\n",
    "    # {\n",
    "    #     'source': 's3://amazon-reviews-ma/landing/amazon_reviews_us_Beauty_v1_00.tsv',\n",
    "    #     'destination':'s3://amazon-reviews-ma/raw/cleaned_amazon_reviews_us_Beauty_v1_00.parquet'\n",
    "    # },\n",
    "    # {\n",
    "    #     'source': 's3://amazon-reviews-ma/landing/amazon_reviews_us_Books_v1_02.tsv',\n",
    "    #     'destination': 's3://amazon-reviews-ma/raw/cleaned_amazon_reviews_us_Books_v1_02.parquet'\n",
    "    # },\n",
    "    # {\n",
    "    #     'source': 's3://amazon-reviews-ma/landing/amazon_reviews_us_Camera_v1_00.tsv',\n",
    "    #     'destination': 's3://amazon-reviews-ma/raw/cleaned_amazon_reviews_us_Camera_v1_00.parquet'\n",
    "    # },\n",
    "    # {\n",
    "    #     'source': 's3://amazon-reviews-ma/landing/amazon_reviews_us_Digital_Ebook_Purchase_v1_01.tsv',\n",
    "    #     'destination': 's3://amazon-reviews-ma/raw/cleaned_amazon_reviews_us_Digital_Ebook_Purchase_v1_01.parquet'\n",
    "    # },\n",
    "    # {\n",
    "    #     'source': 's3://amazon-reviews-ma/landing/amazon_reviews_us_Digital_Music_Purchase_v1_00.tsv',\n",
    "    #     'destination': 's3://amazon-reviews-ma/raw/cleaned_amazon_reviews_us_Digital_Music_Purchase_v1_00.parquet'\n",
    "    # },\n",
    "    # {\n",
    "    #     'source': 's3://amazon-reviews-ma/landing/amazon_reviews_us_Digital_Software_v1_00.tsv',\n",
    "    #     'destination': 's3://amazon-reviews-ma/raw/cleaned_amazon_reviews_us_Digital_Software_v1_00.parquet'\n",
    "    # },\n",
    "    # {\n",
    "    #     'source': 's3://amazon-reviews-ma/landing/amazon_reviews_us_Digital_Video_Download_v1_00.tsv',\n",
    "    #     'destination': 's3://amazon-reviews-ma/raw/cleaned_amazon_reviews_us_Digital_Video_Download_v1_00.parquet'\n",
    "    # },\n",
    "    # {\n",
    "    #     'source': 's3://amazon-reviews-ma/landing/amazon_reviews_us_Digital_Video_Games_v1_00.tsv',\n",
    "    #     'destination': 's3://amazon-reviews-ma/raw/cleaned_amazon_reviews_us_Digital_Video_Games_v1_00.parquet'\n",
    "    # },\n",
    "    # {\n",
    "    #     'source': 's3://amazon-reviews-ma/landing/amazon_reviews_us_Electronics_v1_00.tsv',\n",
    "    #     'destination': 's3://amazon-reviews-ma/raw/cleaned_amazon_reviews_us_Electronics_v1_00.parquet'\n",
    "    # },\n",
    "    # {\n",
    "    #     'source': 's3://amazon-reviews-ma/landing/amazon_reviews_us_Furniture_v1_00.tsv',\n",
    "    #     'destination': 's3://amazon-reviews-ma/raw/cleaned_amazon_reviews_us_Furniture_v1_00.parquet'\n",
    "    # },\n",
    "    # {\n",
    "    #     'source': 's3://amazon-reviews-ma/landing/amazon_reviews_us_Gift_Card_v1_00.tsv',\n",
    "    #     'destination': 's3://amazon-reviews-ma/raw/cleaned_amazon_reviews_us_Gift_Card_v1_00.parquet'\n",
    "    # },\n",
    "    # {\n",
    "    #     'source': 's3://amazon-reviews-ma/landing/amazon_reviews_us_Grocery_v1_00.tsv',\n",
    "    #     'destination': 's3://amazon-reviews-ma/raw/cleaned_amazon_reviews_us_Grocery_v1_00.parquet'\n",
    "    # },\n",
    "    # {\n",
    "    #     'source': 's3://amazon-reviews-ma/landing/amazon_reviews_us_Health_Personal_Care_v1_00.tsv',\n",
    "    #     'destination': 's3://amazon-reviews-ma/raw/cleaned_amazon_reviews_us_Health_Personal_Care_v1_00.parquet'\n",
    "    # },\n",
    "    # {\n",
    "    #     'source': 's3://amazon-reviews-ma/landing/amazon_reviews_us_Major_Appliances_v1_00.tsv',\n",
    "    #     'destination': 's3://amazon-reviews-ma/raw/cleaned_amazon_reviews_us_Major_Appliances_v1_00.parquet'\n",
    "    # },\n",
    "    # {\n",
    "    #     'source': 's3://amazon-reviews-ma/landing/amazon_reviews_us_Mobile_Apps_v1_00.tsv',\n",
    "    #     'destination': 's3://amazon-reviews-ma/raw/cleaned_amazon_reviews_us_Mobile_Apps_v1_00.parquet'\n",
    "    # },\n",
    "    # {\n",
    "    #     'source': 's3://amazon-reviews-ma/landing/amazon_reviews_us_Mobile_Electronics_v1_00.tsv',\n",
    "    #     'destination': 's3://amazon-reviews-ma/raw/cleaned_amazon_reviews_us_Mobile_Electronics_v1_00.parquet'\n",
    "    # },\n",
    "    # {\n",
    "    #     'source': 's3://amazon-reviews-ma/landing/amazon_reviews_us_Music_v1_00.tsv',\n",
    "    #     'destination': 's3://amazon-reviews-ma/raw/cleaned_amazon_reviews_us_Music_v1_00.parquet'\n",
    "    # },\n",
    "    # {\n",
    "    #     'source': 's3://amazon-reviews-ma/landing/amazon_reviews_us_Musical_Instruments_v1_00.tsv',\n",
    "    #     'destination': 's3://amazon-reviews-ma/raw/cleaned_amazon_reviews_us_Musical_Instruments_v1_00.parquet'\n",
    "    # },\n",
    "    # {\n",
    "    #     'source': 's3://amazon-reviews-ma/landing/amazon_reviews_us_Office_Products_v1_00.tsv',\n",
    "    #     'destination': 's3://amazon-reviews-ma/raw/cleaned_amazon_reviews_us_Office_Products_v1_00.parquet'\n",
    "    # },\n",
    "    # {\n",
    "    #     'source': 's3://amazon-reviews-ma/landing/amazon_reviews_us_Outdoors_v1_00.tsv',\n",
    "    #     'destination': 's3://amazon-reviews-ma/raw/cleaned_amazon_reviews_us_Outdoors_v1_00.parquet'\n",
    "    # },\n",
    "    # {\n",
    "    #     'source': 's3://amazon-reviews-ma/landing/amazon_reviews_us_PC_v1_00.tsv',\n",
    "    #     'destination': 's3://amazon-reviews-ma/raw/cleaned_amazon_reviews_us_PC_v1_00.parquet'\n",
    "    # },\n",
    "    # {\n",
    "    #     'source': 's3://amazon-reviews-ma/landing/amazon_reviews_us_Personal_Care_Appliances_v1_00.tsv',\n",
    "    #     'destination': 's3://amazon-reviews-ma/raw/cleaned_amazon_reviews_us_Personal_Care_Appliances_v1_00.parquet'\n",
    "    # },\n",
    "    # {\n",
    "    #     'source': 's3://amazon-reviews-ma/landing/amazon_reviews_us_Pet_Products_v1_00.tsv',\n",
    "    #     'destination': 's3://amazon-reviews-ma/raw/cleaned_amazon_reviews_us_Pet_Products_v1_00.parquet'\n",
    "    # },\n",
    "    {\n",
    "        'source': 's3://amazon-reviews-ma/landing/amazon_reviews_us_Shoes_v1_00.tsv',\n",
    "        'destination': 's3://amazon-reviews-ma/raw/cleaned_amazon_reviews_us_Shoes_v1_00.parquet'\n",
    "    },\n",
    "    {\n",
    "        'source': 's3://amazon-reviews-ma/landing/amazon_reviews_us_Software_v1_00.tsv',\n",
    "        'destination': 's3://amazon-reviews-ma/raw/cleaned_amazon_reviews_us_Software_v1_00.parquet'\n",
    "    },\n",
    "    {\n",
    "        'source': 's3://amazon-reviews-ma/landing/amazon_reviews_us_Sports_v1_00.tsv',\n",
    "        'destination': 's3://amazon-reviews-ma/raw/cleaned_amazon_reviews_us_Sports_v1_00.parquet'\n",
    "    },\n",
    "    {\n",
    "        'source': 's3://amazon-reviews-ma/landing/amazon_reviews_us_Tools_v1_00.tsv',\n",
    "        'destination': 's3://amazon-reviews-ma/raw/cleaned_amazon_reviews_us_Tools_v1_00.parquet'\n",
    "    },\n",
    "    {\n",
    "        'source': 's3://amazon-reviews-ma/landing/amazon_reviews_us_Toys_v1_00.tsv',\n",
    "        'destination': 's3://amazon-reviews-ma/raw/cleaned_amazon_reviews_us_Toys_v1_00.parquet'\n",
    "    },\n",
    "    {\n",
    "        'source': 's3://amazon-reviews-ma/landing/amazon_reviews_us_Video_DVD_v1_00.tsv',\n",
    "        'destination': 's3://amazon-reviews-ma/raw/cleaned_amazon_reviews_us_Video_DVD_v1_00.parquet'\n",
    "    },\n",
    "    {\n",
    "        'source': 's3://amazon-reviews-ma/landing/amazon_reviews_us_Video_Games_v1_00.tsv',\n",
    "        'destination': 's3://amazon-reviews-ma/raw/cleaned_amazon_reviews_us_Video_Games_v1_00.parquet'\n",
    "    },\n",
    "    {\n",
    "        'source': 's3://amazon-reviews-ma/landing/amazon_reviews_us_Video_v1_00.tsv',\n",
    "        'destination': 's3://amazon-reviews-ma/raw/cleaned_amazon_reviews_us_Video_v1_00.parquet'\n",
    "    },\n",
    "    {\n",
    "        'source': 's3://amazon-reviews-ma/landing/amazon_reviews_us_Watches_v1_00.tsv',\n",
    "        'destination': 's3://amazon-reviews-ma/raw/cleaned_amazon_reviews_us_Watches_v1_00.parquet'\n",
    "    },\n",
    "    {\n",
    "        'source': 's3://amazon-reviews-ma/landing/amazon_reviews_us_Wireless_v1_00.tsv',\n",
    "        'destination': 's3://amazon-reviews-ma/raw/cleaned_amazon_reviews_us_Wireless_v1_00.parquet'\n",
    "    },\n",
    "\n",
    "    # All the remaining 35 files listed above\n",
    "    \n",
    "]\n",
    "\n",
    "# Loop through the list of files and clean each one\n",
    "for paths in files_to_clean:\n",
    "    cleaned_path = clean_amazon_reviews(paths['source'], paths['destination'])\n",
    "    print(f'Cleaned file written to: {cleaned_path}')"
   ]
  },
  {
   "cell_type": "code",
   "execution_count": 0,
   "metadata": {
    "application/vnd.databricks.v1+cell": {
     "cellMetadata": {},
     "inputWidgets": {},
     "nuid": "6204566d-3809-4e27-9eb6-497458dc66d5",
     "showTitle": false,
     "title": ""
    }
   },
   "outputs": [],
   "source": []
  }
 ],
 "metadata": {
  "application/vnd.databricks.v1+notebook": {
   "dashboards": [],
   "language": "python",
   "notebookMetadata": {
    "pythonIndentUnit": 4
   },
   "notebookName": "Data Cleaning for Amazon Reviews Project",
   "widgets": {}
  }
 },
 "nbformat": 4,
 "nbformat_minor": 0
}

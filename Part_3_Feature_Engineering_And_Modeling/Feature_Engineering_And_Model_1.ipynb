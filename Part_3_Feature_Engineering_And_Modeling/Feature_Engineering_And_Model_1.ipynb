{
 "cells": [
  {
   "cell_type": "code",
   "execution_count": 0,
   "metadata": {
    "application/vnd.databricks.v1+cell": {
     "cellMetadata": {
      "byteLimit": 2048000,
      "rowLimit": 10000
     },
     "inputWidgets": {},
     "nuid": "1604413f-d1bf-4a97-bac6-8b38086c649a",
     "showTitle": false,
     "title": ""
    }
   },
   "outputs": [],
   "source": [
    "from pyspark.sql import SparkSession\n",
    "from pyspark.sql.types import DoubleType\n",
    "from pyspark.ml import Pipeline\n",
    "from pyspark.ml.feature import Tokenizer, StopWordsRemover, HashingTF, OneHotEncoder, IDF, StringIndexer, VectorAssembler, RegexTokenizer\n",
    "from pyspark.ml.classification import LogisticRegression\n",
    "from pyspark.ml.evaluation import BinaryClassificationEvaluator\n",
    "from pyspark.sql.functions import when, col\n",
    "from pyspark.mllib.evaluation import MulticlassMetrics\n",
    "import seaborn as sns\n",
    "import matplotlib.pyplot as plt"
   ]
  },
  {
   "cell_type": "code",
   "execution_count": 0,
   "metadata": {
    "application/vnd.databricks.v1+cell": {
     "cellMetadata": {
      "byteLimit": 2048000,
      "rowLimit": 10000
     },
     "inputWidgets": {},
     "nuid": "945488d2-12aa-40c7-9013-f0a1179b0c44",
     "showTitle": false,
     "title": ""
    }
   },
   "outputs": [],
   "source": [
    "# Initialize Spark session\n",
    "spark = SparkSession.builder \\\n",
    ".appName(\"SimplifiedClassificationModeling\") \\\n",
    ".getOrCreate()"
   ]
  },
  {
   "cell_type": "code",
   "execution_count": 0,
   "metadata": {
    "application/vnd.databricks.v1+cell": {
     "cellMetadata": {
      "byteLimit": 2048000,
      "rowLimit": 10000
     },
     "inputWidgets": {},
     "nuid": "43276dd6-8abe-47d3-9ca2-08b089fb41a9",
     "showTitle": false,
     "title": ""
    }
   },
   "outputs": [],
   "source": [
    "# Read the cleaned data\n",
    "sdf = spark.read.parquet(\"s3://amazon-reviews-ma/raw/cleaned_amazon_reviews_us_Apparel_v1_00.parquet\")"
   ]
  },
  {
   "cell_type": "code",
   "execution_count": 0,
   "metadata": {
    "application/vnd.databricks.v1+cell": {
     "cellMetadata": {
      "byteLimit": 2048000,
      "rowLimit": 10000
     },
     "inputWidgets": {},
     "nuid": "e77e8188-cf20-4488-87f3-1f1f85df1ac3",
     "showTitle": false,
     "title": ""
    }
   },
   "outputs": [],
   "source": [
    "# Feature Engineering starts here\n",
    "sdf = sdf.withColumn(\"label\", when(col(\"star_rating\") > 3, \n",
    "1).otherwise(0).cast(DoubleType()))\n",
    "sampled_sdf = sdf.sample(withReplacement=False, fraction=0.3, seed=42)"
   ]
  },
  {
   "cell_type": "code",
   "execution_count": 0,
   "metadata": {
    "application/vnd.databricks.v1+cell": {
     "cellMetadata": {
      "byteLimit": 2048000,
      "rowLimit": 10000
     },
     "inputWidgets": {},
     "nuid": "234974da-2f0a-4672-9dd9-31db9fddec5d",
     "showTitle": false,
     "title": ""
    }
   },
   "outputs": [],
   "source": [
    "# Text processing for 'clean_review_body'\n",
    "bodyTokenizer = RegexTokenizer(inputCol=\"clean_review_body\", \n",
    "outputCol=\"tokenized_body\", pattern=\"\\\\W\")\n",
    "bodyRemover = StopWordsRemover(inputCol=\"tokenized_body\", outputCol=\"filtered_body\")\n",
    "bodyHashingTF = HashingTF(inputCol=\"filtered_body\", outputCol=\"body_features\", \n",
    "numFeatures=1000)"
   ]
  },
  {
   "cell_type": "code",
   "execution_count": 0,
   "metadata": {
    "application/vnd.databricks.v1+cell": {
     "cellMetadata": {
      "byteLimit": 2048000,
      "rowLimit": 10000
     },
     "inputWidgets": {},
     "nuid": "ae8068ea-8bf9-4a04-968e-d1b5dcaf0c76",
     "showTitle": false,
     "title": ""
    }
   },
   "outputs": [],
   "source": [
    "# Text processing for 'clean_review_headline'\n",
    "headlineTokenizer = RegexTokenizer(inputCol=\"clean_review_headline\", \n",
    "outputCol=\"tokenized_headline\", pattern=\"\\\\W\")\n",
    "headlineRemover = StopWordsRemover(inputCol=\"tokenized_headline\", \n",
    "outputCol=\"filtered_headline\")\n",
    "headlineHashingTF = HashingTF(inputCol=\"filtered_headline\", \n",
    "outputCol=\"headline_features\", numFeatures=1000)"
   ]
  },
  {
   "cell_type": "code",
   "execution_count": 0,
   "metadata": {
    "application/vnd.databricks.v1+cell": {
     "cellMetadata": {
      "byteLimit": 2048000,
      "rowLimit": 10000
     },
     "inputWidgets": {},
     "nuid": "b7d73bd3-1420-45d2-ace3-2bd57b44c666",
     "showTitle": false,
     "title": ""
    }
   },
   "outputs": [],
   "source": [
    "# Assemble features\n",
    "assembler = VectorAssembler(inputCols=[\"body_features\", \"headline_features\"], \n",
    "outputCol=\"final_features\")"
   ]
  },
  {
   "cell_type": "code",
   "execution_count": 0,
   "metadata": {
    "application/vnd.databricks.v1+cell": {
     "cellMetadata": {
      "byteLimit": 2048000,
      "rowLimit": 10000
     },
     "inputWidgets": {},
     "nuid": "c42df9bd-1327-497f-a67f-ce9cb56724a2",
     "showTitle": false,
     "title": ""
    }
   },
   "outputs": [],
   "source": [
    "# Logistic Regression Model\n",
    "classifier = LogisticRegression(featuresCol=\"final_features\", labelCol=\"label\")"
   ]
  },
  {
   "cell_type": "code",
   "execution_count": 0,
   "metadata": {
    "application/vnd.databricks.v1+cell": {
     "cellMetadata": {
      "byteLimit": 2048000,
      "rowLimit": 10000
     },
     "inputWidgets": {},
     "nuid": "5788dffa-b570-468f-81fb-6448ae4f75cb",
     "showTitle": false,
     "title": ""
    }
   },
   "outputs": [],
   "source": [
    "# Create a Pipeline\n",
    "pipeline = Pipeline(stages=[bodyTokenizer, bodyRemover, bodyHashingTF, \n",
    "headlineTokenizer, headlineRemover, headlineHashingTF, \n",
    "assembler, classifier])"
   ]
  },
  {
   "cell_type": "code",
   "execution_count": 0,
   "metadata": {
    "application/vnd.databricks.v1+cell": {
     "cellMetadata": {
      "byteLimit": 2048000,
      "rowLimit": 10000
     },
     "inputWidgets": {},
     "nuid": "2417cf16-d00d-43ad-9cce-915077736640",
     "showTitle": false,
     "title": ""
    }
   },
   "outputs": [],
   "source": [
    "# Split data\n",
    "train_data, test_data = sampled_sdf.randomSplit([0.8, 0.2], seed=42)"
   ]
  },
  {
   "cell_type": "code",
   "execution_count": 0,
   "metadata": {
    "application/vnd.databricks.v1+cell": {
     "cellMetadata": {
      "byteLimit": 2048000,
      "rowLimit": 10000
     },
     "inputWidgets": {},
     "nuid": "a72424d4-8a8e-43ab-b714-0708869566f4",
     "showTitle": false,
     "title": ""
    }
   },
   "outputs": [],
   "source": [
    "# Fit the model\n",
    "model = pipeline.fit(train_data)"
   ]
  },
  {
   "cell_type": "code",
   "execution_count": 0,
   "metadata": {
    "application/vnd.databricks.v1+cell": {
     "cellMetadata": {
      "byteLimit": 2048000,
      "rowLimit": 10000
     },
     "inputWidgets": {},
     "nuid": "ffb90815-fd58-4ad2-bb91-251bff96bcac",
     "showTitle": false,
     "title": ""
    }
   },
   "outputs": [],
   "source": [
    "# Making predictions\n",
    "predictions = model.transform(test_data)"
   ]
  },
  {
   "cell_type": "code",
   "execution_count": 0,
   "metadata": {
    "application/vnd.databricks.v1+cell": {
     "cellMetadata": {
      "byteLimit": 2048000,
      "rowLimit": 10000
     },
     "inputWidgets": {},
     "nuid": "cb1b7e0e-6525-48f2-a807-c82664b3eb16",
     "showTitle": false,
     "title": ""
    }
   },
   "outputs": [
    {
     "output_type": "stream",
     "name": "stdout",
     "output_type": "stream",
     "text": [
      "Test Area Under ROC: 0.9437150660093738\n"
     ]
    }
   ],
   "source": [
    "from pyspark.ml.evaluation import BinaryClassificationEvaluator\n",
    "# Evaluating the model\n",
    "evaluator = BinaryClassificationEvaluator(rawPredictionCol=\"rawPrediction\")\n",
    "roc_auc = evaluator.evaluate(predictions, {evaluator.metricName: \"areaUnderROC\"})\n",
    "print(\"Test Area Under ROC: \" + str(roc_auc))"
   ]
  },
  {
   "cell_type": "code",
   "execution_count": 0,
   "metadata": {
    "application/vnd.databricks.v1+cell": {
     "cellMetadata": {
      "byteLimit": 2048000,
      "rowLimit": 10000
     },
     "inputWidgets": {},
     "nuid": "c0bba23c-cc08-4e36-96b1-c82f52470ce8",
     "showTitle": false,
     "title": ""
    }
   },
   "outputs": [
    {
     "output_type": "stream",
     "name": "stdout",
     "output_type": "stream",
     "text": [
      "Accuracy:  0.8981925415884752\nPrecision:  0.8956481411683637\nRecall:  0.8981925415884751\nF1 Score:  0.8958632165565048\n"
     ]
    }
   ],
   "source": [
    "from pyspark.ml.evaluation import BinaryClassificationEvaluator, MulticlassClassificationEvaluator\n",
    "from pyspark.mllib.evaluation import MulticlassMetrics\n",
    "# Accuracy, Precision, Recall, and F1 Score\n",
    "evaluator = MulticlassClassificationEvaluator(labelCol=\"label\", \n",
    "predictionCol=\"prediction\")\n",
    "accuracy = evaluator.evaluate(predictions, {evaluator.metricName: \"accuracy\"})\n",
    "precision = evaluator.evaluate(predictions, {evaluator.metricName: \n",
    "\"weightedPrecision\"})\n",
    "recall = evaluator.evaluate(predictions, {evaluator.metricName: \"weightedRecall\"})\n",
    "f1 = evaluator.evaluate(predictions, {evaluator.metricName: \"f1\"})\n",
    "print(\"Accuracy: \", accuracy)\n",
    "print(\"Precision: \", precision)\n",
    "print(\"Recall: \", recall)\n",
    "print(\"F1 Score: \", f1)\n"
   ]
  },
  {
   "cell_type": "code",
   "execution_count": 0,
   "metadata": {
    "application/vnd.databricks.v1+cell": {
     "cellMetadata": {
      "byteLimit": 2048000,
      "rowLimit": 10000
     },
     "inputWidgets": {},
     "nuid": "584fc2b5-c387-4cb1-a330-659b66671d12",
     "showTitle": false,
     "title": ""
    }
   },
   "outputs": [
    {
     "output_type": "stream",
     "name": "stderr",
     "output_type": "stream",
     "text": [
      "/databricks/spark/python/pyspark/sql/context.py:165: FutureWarning: Deprecated in 3.0.0. Use SparkSession.builder.getOrCreate() instead.\n  warnings.warn(\n"
     ]
    },
    {
     "output_type": "stream",
     "name": "stdout",
     "output_type": "stream",
     "text": [
      "Confusion Matrix:\n [[ 62705.  23280.]\n [ 12797. 255583.]]\n"
     ]
    }
   ],
   "source": [
    "# Confusion Matrix\n",
    "predictionAndLabels = predictions.select(\"prediction\", \"label\").rdd\n",
    "metrics = MulticlassMetrics(predictionAndLabels)\n",
    "confusion_matrix = metrics.confusionMatrix().toArray()\n",
    "print(\"Confusion Matrix:\\n\", confusion_matrix)"
   ]
  },
  {
   "cell_type": "code",
   "execution_count": 0,
   "metadata": {
    "application/vnd.databricks.v1+cell": {
     "cellMetadata": {
      "byteLimit": 2048000,
      "rowLimit": 10000
     },
     "inputWidgets": {},
     "nuid": "ccc77d8a-6c06-4ef3-a82a-d574bc5e0a30",
     "showTitle": false,
     "title": ""
    }
   },
   "outputs": [
    {
     "output_type": "display_data",
     "data": {
      "application/vnd.databricks.v1+bamboolib_hint": "{\"pd.DataFrames\": [], \"version\": \"0.0.1\"}",
      "text/plain": []
     },
     "metadata": {},
     "output_type": "display_data"
    },
    {
     "output_type": "display_data",
     "data": {
      "image/png": "[encoded data removed]"
     },
     "metadata": {
      "application/vnd.databricks.v1+output": {
       "addedWidgets": {},
       "arguments": {},
       "data": "data:image/png;base64,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\n",
       "datasetInfos": [],
       "metadata": {},
       "removedWidgets": [],
       "type": "image"
      }
     },
     "output_type": "display_data"
    }
   ],
   "source": [
    "#Visualization of the confusion matrix:\n",
    "TN, FP, FN, TP = confusion_matrix.ravel()\n",
    "import pandas as pd\n",
    "conf_matrix_df = pd.DataFrame(confusion_matrix, \n",
    "index=[\"Actual Negative\", \"Actual Positive\"], \n",
    "columns=[\"Predicted Negative\", \"Predicted Positive\"])\n",
    "# Plot\n",
    "plt.figure(figsize=(8, 6))\n",
    "sns.heatmap(conf_matrix_df, annot=True, fmt='g', cmap='Blues')\n",
    "plt.title('Confusion Matrix')\n",
    "plt.xlabel('Predicted labels')\n",
    "plt.ylabel('True labels')\n",
    "plt.show()\n"
   ]
  },
  {
   "cell_type": "code",
   "execution_count": 0,
   "metadata": {
    "application/vnd.databricks.v1+cell": {
     "cellMetadata": {
      "byteLimit": 2048000,
      "rowLimit": 10000
     },
     "inputWidgets": {},
     "nuid": "29dea69a-f4e4-4063-9bca-57e422e20f8a",
     "showTitle": false,
     "title": ""
    }
   },
   "outputs": [],
   "source": [
    "# Saving the model to S3\n",
    "model.write().overwrite().save(\"s3://amazon-reviews-ma/models/myAmazonLogisticRegressionModel1\")"
   ]
  }
 ],
 "metadata": {
  "application/vnd.databricks.v1+notebook": {
   "dashboards": [],
   "language": "python",
   "notebookMetadata": {
    "pythonIndentUnit": 4
   },
   "notebookName": "Model 1",
   "widgets": {}
  }
 },
 "nbformat": 4,
 "nbformat_minor": 0
}
